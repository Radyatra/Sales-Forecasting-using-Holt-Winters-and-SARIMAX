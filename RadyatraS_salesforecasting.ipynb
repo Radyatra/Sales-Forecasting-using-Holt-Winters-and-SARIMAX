{
 "cells": [
  {
   "attachments": {},
   "cell_type": "markdown",
   "metadata": {},
   "source": [
    "# **Sales Forecasting**"
   ]
  },
  {
   "attachments": {},
   "cell_type": "markdown",
   "metadata": {},
   "source": [
    "**Name: Radyatra Sidharta**"
   ]
  },
  {
   "attachments": {},
   "cell_type": "markdown",
   "metadata": {},
   "source": [
    "### Table of Contents\n",
    "- I. Introduction\n",
    "- II. External Links\n",
    "- III. Working Area\n",
    "    - a. Library Import\n",
    "    - b. Exploratory Data Analysis (EDA)\n",
    "    - c. Feature Engineering\n",
    "    - d. Forecasting\n",
    "        - 1. Product A1\n",
    "        - 2. Product A2\n",
    "        - 3. Product B1\n",
    "        - 4. Product B2\n",
    "- IV. Conclusion"
   ]
  },
  {
   "attachments": {},
   "cell_type": "markdown",
   "metadata": {},
   "source": [
    "## I. Introduction"
   ]
  },
  {
   "attachments": {},
   "cell_type": "markdown",
   "metadata": {},
   "source": [
    "The purpose of this notebook is to create a time series model with the following criteria:\n",
    "\n",
    "- Able to forecast 14 days every products and categories from Kalbe’s dataset.\n",
    "- Your working model able to reach a good Accuracy Rate.\n",
    "- Able to explain the methodology used for every step, algorithm, data manipulation, data cleansing, etc.\n",
    "- Able to provide chart or any other measureable methods to prove your inferences."
   ]
  },
  {
   "attachments": {},
   "cell_type": "markdown",
   "metadata": {},
   "source": [
    "## II. External Links"
   ]
  },
  {
   "attachments": {},
   "cell_type": "markdown",
   "metadata": {},
   "source": [
    "- linkedin.com/in/radyatra-sidharta\n",
    "- github.com/Radyatra"
   ]
  },
  {
   "attachments": {},
   "cell_type": "markdown",
   "metadata": {},
   "source": [
    "## III. Working Area"
   ]
  },
  {
   "attachments": {},
   "cell_type": "markdown",
   "metadata": {},
   "source": [
    "### a. Library Import"
   ]
  },
  {
   "cell_type": "code",
   "execution_count": 1,
   "metadata": {},
   "outputs": [],
   "source": [
    "# Define Libraries\n",
    "\n",
    "import pandas as pd\n",
    "import numpy as np\n",
    "import matplotlib.pyplot as plt\n",
    "import seaborn as sns\n",
    "%matplotlib inline\n",
    "\n",
    "import warnings\n",
    "warnings.filterwarnings('ignore')\n",
    "\n",
    "from sklearn.metrics import mean_squared_error, mean_absolute_error\n",
    "from math import sqrt\n",
    "from statsmodels.tsa.api import ExponentialSmoothing, SimpleExpSmoothing, Holt\n",
    "from statsmodels.tsa.arima_model import ARMA\n",
    "import statsmodels.api as sm\n",
    "from statsmodels.tsa.seasonal import seasonal_decompose\n",
    "\n",
    "np.random.seed(42)"
   ]
  },
  {
   "attachments": {},
   "cell_type": "markdown",
   "metadata": {},
   "source": [
    "### b. Exploratory Data Analysis (EDA)"
   ]
  },
  {
   "cell_type": "code",
   "execution_count": 2,
   "metadata": {},
   "outputs": [],
   "source": [
    "xls = pd.ExcelFile('kalbe_data.xlsx')\n",
    "dfA1 = pd.read_excel(xls, 'A1')\n",
    "dfA2 = pd.read_excel(xls, 'A2')\n",
    "dfB1 = pd.read_excel(xls, 'B1')\n",
    "dfB2 = pd.read_excel(xls, 'B2')"
   ]
  },
  {
   "attachments": {},
   "cell_type": "markdown",
   "metadata": {},
   "source": [
    "The Excel data contains four sheets and its contents can be seen below. Here, we have columns such as Day, Category, Product, Sales and Event (only for Product B1). Note, there are two Categories \"A\" and \"B\" and four Products \"A1\", \"A2\", \"A3\", and \"A4.\" The Sales data will be seperated into their respective Products."
   ]
  },
  {
   "cell_type": "code",
   "execution_count": 3,
   "metadata": {},
   "outputs": [
    {
     "data": {
      "text/html": [
       "<div>\n",
       "<style scoped>\n",
       "    .dataframe tbody tr th:only-of-type {\n",
       "        vertical-align: middle;\n",
       "    }\n",
       "\n",
       "    .dataframe tbody tr th {\n",
       "        vertical-align: top;\n",
       "    }\n",
       "\n",
       "    .dataframe thead th {\n",
       "        text-align: right;\n",
       "    }\n",
       "</style>\n",
       "<table border=\"1\" class=\"dataframe\">\n",
       "  <thead>\n",
       "    <tr style=\"text-align: right;\">\n",
       "      <th></th>\n",
       "      <th>Day</th>\n",
       "      <th>Category</th>\n",
       "      <th>Product</th>\n",
       "      <th>Sales</th>\n",
       "    </tr>\n",
       "  </thead>\n",
       "  <tbody>\n",
       "    <tr>\n",
       "      <th>0</th>\n",
       "      <td>1</td>\n",
       "      <td>A</td>\n",
       "      <td>A1</td>\n",
       "      <td>100.000000</td>\n",
       "    </tr>\n",
       "    <tr>\n",
       "      <th>1</th>\n",
       "      <td>2</td>\n",
       "      <td>A</td>\n",
       "      <td>A1</td>\n",
       "      <td>101.000000</td>\n",
       "    </tr>\n",
       "    <tr>\n",
       "      <th>2</th>\n",
       "      <td>3</td>\n",
       "      <td>A</td>\n",
       "      <td>A1</td>\n",
       "      <td>102.010000</td>\n",
       "    </tr>\n",
       "    <tr>\n",
       "      <th>3</th>\n",
       "      <td>4</td>\n",
       "      <td>A</td>\n",
       "      <td>A1</td>\n",
       "      <td>103.030100</td>\n",
       "    </tr>\n",
       "    <tr>\n",
       "      <th>4</th>\n",
       "      <td>5</td>\n",
       "      <td>A</td>\n",
       "      <td>A1</td>\n",
       "      <td>104.060401</td>\n",
       "    </tr>\n",
       "    <tr>\n",
       "      <th>...</th>\n",
       "      <td>...</td>\n",
       "      <td>...</td>\n",
       "      <td>...</td>\n",
       "      <td>...</td>\n",
       "    </tr>\n",
       "    <tr>\n",
       "      <th>85</th>\n",
       "      <td>86</td>\n",
       "      <td>A</td>\n",
       "      <td>A1</td>\n",
       "      <td>196.980000</td>\n",
       "    </tr>\n",
       "    <tr>\n",
       "      <th>86</th>\n",
       "      <td>87</td>\n",
       "      <td>A</td>\n",
       "      <td>A1</td>\n",
       "      <td>197.964900</td>\n",
       "    </tr>\n",
       "    <tr>\n",
       "      <th>87</th>\n",
       "      <td>88</td>\n",
       "      <td>A</td>\n",
       "      <td>A1</td>\n",
       "      <td>198.954724</td>\n",
       "    </tr>\n",
       "    <tr>\n",
       "      <th>88</th>\n",
       "      <td>89</td>\n",
       "      <td>A</td>\n",
       "      <td>A1</td>\n",
       "      <td>199.949498</td>\n",
       "    </tr>\n",
       "    <tr>\n",
       "      <th>89</th>\n",
       "      <td>90</td>\n",
       "      <td>A</td>\n",
       "      <td>A1</td>\n",
       "      <td>200.949246</td>\n",
       "    </tr>\n",
       "  </tbody>\n",
       "</table>\n",
       "<p>90 rows × 4 columns</p>\n",
       "</div>"
      ],
      "text/plain": [
       "    Day Category Product       Sales\n",
       "0     1        A      A1  100.000000\n",
       "1     2        A      A1  101.000000\n",
       "2     3        A      A1  102.010000\n",
       "3     4        A      A1  103.030100\n",
       "4     5        A      A1  104.060401\n",
       "..  ...      ...     ...         ...\n",
       "85   86        A      A1  196.980000\n",
       "86   87        A      A1  197.964900\n",
       "87   88        A      A1  198.954724\n",
       "88   89        A      A1  199.949498\n",
       "89   90        A      A1  200.949246\n",
       "\n",
       "[90 rows x 4 columns]"
      ]
     },
     "execution_count": 3,
     "metadata": {},
     "output_type": "execute_result"
    }
   ],
   "source": [
    "dfA1"
   ]
  },
  {
   "attachments": {},
   "cell_type": "markdown",
   "metadata": {},
   "source": [
    "It is important to check for Not-a-Number (NaN) / Nulls and duplicates in the data to ensure the model will run properly and to increase its performance (by mitigating noise)."
   ]
  },
  {
   "cell_type": "code",
   "execution_count": 4,
   "metadata": {},
   "outputs": [
    {
     "data": {
      "text/plain": [
       "Day         0\n",
       "Category    0\n",
       "Product     0\n",
       "Sales       0\n",
       "dtype: int64"
      ]
     },
     "execution_count": 4,
     "metadata": {},
     "output_type": "execute_result"
    }
   ],
   "source": [
    "dfA1.isnull().sum()"
   ]
  },
  {
   "cell_type": "code",
   "execution_count": 5,
   "metadata": {},
   "outputs": [
    {
     "data": {
      "text/plain": [
       "0     False\n",
       "67    False\n",
       "65    False\n",
       "64    False\n",
       "63    False\n",
       "      ...  \n",
       "28    False\n",
       "27    False\n",
       "26    False\n",
       "25    False\n",
       "89    False\n",
       "Length: 90, dtype: bool"
      ]
     },
     "execution_count": 5,
     "metadata": {},
     "output_type": "execute_result"
    }
   ],
   "source": [
    "# Finding duplicates in our data and sorting them (True will be on top of the list).\n",
    "A1_dupl = dfA1.duplicated()\n",
    "A1_dupl.sort_values(ascending=False) "
   ]
  },
  {
   "attachments": {},
   "cell_type": "markdown",
   "metadata": {},
   "source": [
    "There 90 data entries and four columns in A1 dataset, without a Not-a-Number (NaN) / Null and duplicates present in the data."
   ]
  },
  {
   "cell_type": "code",
   "execution_count": 6,
   "metadata": {},
   "outputs": [
    {
     "data": {
      "text/html": [
       "<div>\n",
       "<style scoped>\n",
       "    .dataframe tbody tr th:only-of-type {\n",
       "        vertical-align: middle;\n",
       "    }\n",
       "\n",
       "    .dataframe tbody tr th {\n",
       "        vertical-align: top;\n",
       "    }\n",
       "\n",
       "    .dataframe thead th {\n",
       "        text-align: right;\n",
       "    }\n",
       "</style>\n",
       "<table border=\"1\" class=\"dataframe\">\n",
       "  <thead>\n",
       "    <tr style=\"text-align: right;\">\n",
       "      <th></th>\n",
       "      <th>Day</th>\n",
       "      <th>Category</th>\n",
       "      <th>Product</th>\n",
       "      <th>Sales</th>\n",
       "    </tr>\n",
       "  </thead>\n",
       "  <tbody>\n",
       "    <tr>\n",
       "      <th>0</th>\n",
       "      <td>1</td>\n",
       "      <td>A</td>\n",
       "      <td>A2</td>\n",
       "      <td>1000.000000</td>\n",
       "    </tr>\n",
       "    <tr>\n",
       "      <th>1</th>\n",
       "      <td>2</td>\n",
       "      <td>A</td>\n",
       "      <td>A2</td>\n",
       "      <td>1005.000000</td>\n",
       "    </tr>\n",
       "    <tr>\n",
       "      <th>2</th>\n",
       "      <td>3</td>\n",
       "      <td>A</td>\n",
       "      <td>A2</td>\n",
       "      <td>1010.025000</td>\n",
       "    </tr>\n",
       "    <tr>\n",
       "      <th>3</th>\n",
       "      <td>4</td>\n",
       "      <td>A</td>\n",
       "      <td>A2</td>\n",
       "      <td>1015.075125</td>\n",
       "    </tr>\n",
       "    <tr>\n",
       "      <th>4</th>\n",
       "      <td>5</td>\n",
       "      <td>A</td>\n",
       "      <td>A2</td>\n",
       "      <td>1020.150501</td>\n",
       "    </tr>\n",
       "    <tr>\n",
       "      <th>...</th>\n",
       "      <td>...</td>\n",
       "      <td>...</td>\n",
       "      <td>...</td>\n",
       "      <td>...</td>\n",
       "    </tr>\n",
       "    <tr>\n",
       "      <th>85</th>\n",
       "      <td>86</td>\n",
       "      <td>A</td>\n",
       "      <td>A2</td>\n",
       "      <td>1527.971484</td>\n",
       "    </tr>\n",
       "    <tr>\n",
       "      <th>86</th>\n",
       "      <td>87</td>\n",
       "      <td>A</td>\n",
       "      <td>A2</td>\n",
       "      <td>1535.611342</td>\n",
       "    </tr>\n",
       "    <tr>\n",
       "      <th>87</th>\n",
       "      <td>88</td>\n",
       "      <td>A</td>\n",
       "      <td>A2</td>\n",
       "      <td>1543.289398</td>\n",
       "    </tr>\n",
       "    <tr>\n",
       "      <th>88</th>\n",
       "      <td>89</td>\n",
       "      <td>A</td>\n",
       "      <td>A2</td>\n",
       "      <td>1551.005845</td>\n",
       "    </tr>\n",
       "    <tr>\n",
       "      <th>89</th>\n",
       "      <td>90</td>\n",
       "      <td>A</td>\n",
       "      <td>A2</td>\n",
       "      <td>1558.760875</td>\n",
       "    </tr>\n",
       "  </tbody>\n",
       "</table>\n",
       "<p>90 rows × 4 columns</p>\n",
       "</div>"
      ],
      "text/plain": [
       "    Day Category Product        Sales\n",
       "0     1        A      A2  1000.000000\n",
       "1     2        A      A2  1005.000000\n",
       "2     3        A      A2  1010.025000\n",
       "3     4        A      A2  1015.075125\n",
       "4     5        A      A2  1020.150501\n",
       "..  ...      ...     ...          ...\n",
       "85   86        A      A2  1527.971484\n",
       "86   87        A      A2  1535.611342\n",
       "87   88        A      A2  1543.289398\n",
       "88   89        A      A2  1551.005845\n",
       "89   90        A      A2  1558.760875\n",
       "\n",
       "[90 rows x 4 columns]"
      ]
     },
     "execution_count": 6,
     "metadata": {},
     "output_type": "execute_result"
    }
   ],
   "source": [
    "dfA2"
   ]
  },
  {
   "cell_type": "code",
   "execution_count": 7,
   "metadata": {},
   "outputs": [
    {
     "data": {
      "text/plain": [
       "Day         0\n",
       "Category    0\n",
       "Product     0\n",
       "Sales       0\n",
       "dtype: int64"
      ]
     },
     "execution_count": 7,
     "metadata": {},
     "output_type": "execute_result"
    }
   ],
   "source": [
    "dfA2.isnull().sum()"
   ]
  },
  {
   "cell_type": "code",
   "execution_count": 8,
   "metadata": {},
   "outputs": [
    {
     "data": {
      "text/plain": [
       "0     False\n",
       "67    False\n",
       "65    False\n",
       "64    False\n",
       "63    False\n",
       "      ...  \n",
       "28    False\n",
       "27    False\n",
       "26    False\n",
       "25    False\n",
       "89    False\n",
       "Length: 90, dtype: bool"
      ]
     },
     "execution_count": 8,
     "metadata": {},
     "output_type": "execute_result"
    }
   ],
   "source": [
    "A2_dupl = dfA2.duplicated()\n",
    "A2_dupl.sort_values(ascending=False) "
   ]
  },
  {
   "attachments": {},
   "cell_type": "markdown",
   "metadata": {},
   "source": [
    "There 90 data entries and four columns in A2 dataset, with no Not-a-Number (NaN) / Null and duplicates present in the data."
   ]
  },
  {
   "cell_type": "code",
   "execution_count": 9,
   "metadata": {},
   "outputs": [
    {
     "data": {
      "text/html": [
       "<div>\n",
       "<style scoped>\n",
       "    .dataframe tbody tr th:only-of-type {\n",
       "        vertical-align: middle;\n",
       "    }\n",
       "\n",
       "    .dataframe tbody tr th {\n",
       "        vertical-align: top;\n",
       "    }\n",
       "\n",
       "    .dataframe thead th {\n",
       "        text-align: right;\n",
       "    }\n",
       "</style>\n",
       "<table border=\"1\" class=\"dataframe\">\n",
       "  <thead>\n",
       "    <tr style=\"text-align: right;\">\n",
       "      <th></th>\n",
       "      <th>Day</th>\n",
       "      <th>Category</th>\n",
       "      <th>Product</th>\n",
       "      <th>Sales</th>\n",
       "      <th>Event</th>\n",
       "    </tr>\n",
       "  </thead>\n",
       "  <tbody>\n",
       "    <tr>\n",
       "      <th>0</th>\n",
       "      <td>1</td>\n",
       "      <td>B</td>\n",
       "      <td>B1</td>\n",
       "      <td>990.0</td>\n",
       "      <td>0</td>\n",
       "    </tr>\n",
       "    <tr>\n",
       "      <th>1</th>\n",
       "      <td>2</td>\n",
       "      <td>B</td>\n",
       "      <td>B1</td>\n",
       "      <td>980.0</td>\n",
       "      <td>0</td>\n",
       "    </tr>\n",
       "    <tr>\n",
       "      <th>2</th>\n",
       "      <td>3</td>\n",
       "      <td>B</td>\n",
       "      <td>B1</td>\n",
       "      <td>1010.0</td>\n",
       "      <td>0</td>\n",
       "    </tr>\n",
       "    <tr>\n",
       "      <th>3</th>\n",
       "      <td>4</td>\n",
       "      <td>B</td>\n",
       "      <td>B1</td>\n",
       "      <td>1010.0</td>\n",
       "      <td>0</td>\n",
       "    </tr>\n",
       "    <tr>\n",
       "      <th>4</th>\n",
       "      <td>5</td>\n",
       "      <td>B</td>\n",
       "      <td>B1</td>\n",
       "      <td>1000.0</td>\n",
       "      <td>0</td>\n",
       "    </tr>\n",
       "    <tr>\n",
       "      <th>...</th>\n",
       "      <td>...</td>\n",
       "      <td>...</td>\n",
       "      <td>...</td>\n",
       "      <td>...</td>\n",
       "      <td>...</td>\n",
       "    </tr>\n",
       "    <tr>\n",
       "      <th>99</th>\n",
       "      <td>100</td>\n",
       "      <td>B</td>\n",
       "      <td>B1</td>\n",
       "      <td>NaN</td>\n",
       "      <td>0</td>\n",
       "    </tr>\n",
       "    <tr>\n",
       "      <th>100</th>\n",
       "      <td>101</td>\n",
       "      <td>B</td>\n",
       "      <td>B1</td>\n",
       "      <td>NaN</td>\n",
       "      <td>1</td>\n",
       "    </tr>\n",
       "    <tr>\n",
       "      <th>101</th>\n",
       "      <td>102</td>\n",
       "      <td>B</td>\n",
       "      <td>B1</td>\n",
       "      <td>NaN</td>\n",
       "      <td>0</td>\n",
       "    </tr>\n",
       "    <tr>\n",
       "      <th>102</th>\n",
       "      <td>103</td>\n",
       "      <td>B</td>\n",
       "      <td>B1</td>\n",
       "      <td>NaN</td>\n",
       "      <td>0</td>\n",
       "    </tr>\n",
       "    <tr>\n",
       "      <th>103</th>\n",
       "      <td>104</td>\n",
       "      <td>B</td>\n",
       "      <td>B1</td>\n",
       "      <td>NaN</td>\n",
       "      <td>0</td>\n",
       "    </tr>\n",
       "  </tbody>\n",
       "</table>\n",
       "<p>104 rows × 5 columns</p>\n",
       "</div>"
      ],
      "text/plain": [
       "     Day Category Product   Sales  Event\n",
       "0      1        B      B1   990.0      0\n",
       "1      2        B      B1   980.0      0\n",
       "2      3        B      B1  1010.0      0\n",
       "3      4        B      B1  1010.0      0\n",
       "4      5        B      B1  1000.0      0\n",
       "..   ...      ...     ...     ...    ...\n",
       "99   100        B      B1     NaN      0\n",
       "100  101        B      B1     NaN      1\n",
       "101  102        B      B1     NaN      0\n",
       "102  103        B      B1     NaN      0\n",
       "103  104        B      B1     NaN      0\n",
       "\n",
       "[104 rows x 5 columns]"
      ]
     },
     "execution_count": 9,
     "metadata": {},
     "output_type": "execute_result"
    }
   ],
   "source": [
    "dfB1"
   ]
  },
  {
   "cell_type": "code",
   "execution_count": 10,
   "metadata": {},
   "outputs": [
    {
     "data": {
      "text/plain": [
       "Day          0\n",
       "Category     0\n",
       "Product      0\n",
       "Sales       14\n",
       "Event        0\n",
       "dtype: int64"
      ]
     },
     "execution_count": 10,
     "metadata": {},
     "output_type": "execute_result"
    }
   ],
   "source": [
    "dfB1.isnull().sum()"
   ]
  },
  {
   "cell_type": "code",
   "execution_count": 11,
   "metadata": {},
   "outputs": [
    {
     "data": {
      "text/plain": [
       "0      False\n",
       "1      False\n",
       "76     False\n",
       "75     False\n",
       "74     False\n",
       "       ...  \n",
       "31     False\n",
       "30     False\n",
       "29     False\n",
       "28     False\n",
       "103    False\n",
       "Length: 104, dtype: bool"
      ]
     },
     "execution_count": 11,
     "metadata": {},
     "output_type": "execute_result"
    }
   ],
   "source": [
    "B1_dupl = dfB1.duplicated()\n",
    "B1_dupl.sort_values(ascending=False) "
   ]
  },
  {
   "attachments": {},
   "cell_type": "markdown",
   "metadata": {},
   "source": [
    "There 104 data entries and five columns in B1 dataset, with 14 Not-a-Number (NaN) / Null present at the end of the dataset in the column \"Sales\" and no duplicates."
   ]
  },
  {
   "cell_type": "code",
   "execution_count": 12,
   "metadata": {},
   "outputs": [
    {
     "data": {
      "text/html": [
       "<div>\n",
       "<style scoped>\n",
       "    .dataframe tbody tr th:only-of-type {\n",
       "        vertical-align: middle;\n",
       "    }\n",
       "\n",
       "    .dataframe tbody tr th {\n",
       "        vertical-align: top;\n",
       "    }\n",
       "\n",
       "    .dataframe thead th {\n",
       "        text-align: right;\n",
       "    }\n",
       "</style>\n",
       "<table border=\"1\" class=\"dataframe\">\n",
       "  <thead>\n",
       "    <tr style=\"text-align: right;\">\n",
       "      <th></th>\n",
       "      <th>Day</th>\n",
       "      <th>Category</th>\n",
       "      <th>Product</th>\n",
       "      <th>Sales</th>\n",
       "    </tr>\n",
       "  </thead>\n",
       "  <tbody>\n",
       "    <tr>\n",
       "      <th>0</th>\n",
       "      <td>1</td>\n",
       "      <td>B</td>\n",
       "      <td>B2</td>\n",
       "      <td>NaN</td>\n",
       "    </tr>\n",
       "    <tr>\n",
       "      <th>1</th>\n",
       "      <td>2</td>\n",
       "      <td>B</td>\n",
       "      <td>B2</td>\n",
       "      <td>NaN</td>\n",
       "    </tr>\n",
       "    <tr>\n",
       "      <th>2</th>\n",
       "      <td>3</td>\n",
       "      <td>B</td>\n",
       "      <td>B2</td>\n",
       "      <td>NaN</td>\n",
       "    </tr>\n",
       "    <tr>\n",
       "      <th>3</th>\n",
       "      <td>4</td>\n",
       "      <td>B</td>\n",
       "      <td>B2</td>\n",
       "      <td>NaN</td>\n",
       "    </tr>\n",
       "    <tr>\n",
       "      <th>4</th>\n",
       "      <td>5</td>\n",
       "      <td>B</td>\n",
       "      <td>B2</td>\n",
       "      <td>NaN</td>\n",
       "    </tr>\n",
       "    <tr>\n",
       "      <th>...</th>\n",
       "      <td>...</td>\n",
       "      <td>...</td>\n",
       "      <td>...</td>\n",
       "      <td>...</td>\n",
       "    </tr>\n",
       "    <tr>\n",
       "      <th>99</th>\n",
       "      <td>100</td>\n",
       "      <td>B</td>\n",
       "      <td>B2</td>\n",
       "      <td>NaN</td>\n",
       "    </tr>\n",
       "    <tr>\n",
       "      <th>100</th>\n",
       "      <td>101</td>\n",
       "      <td>B</td>\n",
       "      <td>B2</td>\n",
       "      <td>NaN</td>\n",
       "    </tr>\n",
       "    <tr>\n",
       "      <th>101</th>\n",
       "      <td>102</td>\n",
       "      <td>B</td>\n",
       "      <td>B2</td>\n",
       "      <td>NaN</td>\n",
       "    </tr>\n",
       "    <tr>\n",
       "      <th>102</th>\n",
       "      <td>103</td>\n",
       "      <td>B</td>\n",
       "      <td>B2</td>\n",
       "      <td>NaN</td>\n",
       "    </tr>\n",
       "    <tr>\n",
       "      <th>103</th>\n",
       "      <td>104</td>\n",
       "      <td>B</td>\n",
       "      <td>B2</td>\n",
       "      <td>NaN</td>\n",
       "    </tr>\n",
       "  </tbody>\n",
       "</table>\n",
       "<p>104 rows × 4 columns</p>\n",
       "</div>"
      ],
      "text/plain": [
       "     Day Category Product  Sales\n",
       "0      1        B      B2    NaN\n",
       "1      2        B      B2    NaN\n",
       "2      3        B      B2    NaN\n",
       "3      4        B      B2    NaN\n",
       "4      5        B      B2    NaN\n",
       "..   ...      ...     ...    ...\n",
       "99   100        B      B2    NaN\n",
       "100  101        B      B2    NaN\n",
       "101  102        B      B2    NaN\n",
       "102  103        B      B2    NaN\n",
       "103  104        B      B2    NaN\n",
       "\n",
       "[104 rows x 4 columns]"
      ]
     },
     "execution_count": 12,
     "metadata": {},
     "output_type": "execute_result"
    }
   ],
   "source": [
    "dfB2"
   ]
  },
  {
   "cell_type": "code",
   "execution_count": 13,
   "metadata": {},
   "outputs": [
    {
     "data": {
      "text/plain": [
       "Day          0\n",
       "Category     0\n",
       "Product      0\n",
       "Sales       74\n",
       "dtype: int64"
      ]
     },
     "execution_count": 13,
     "metadata": {},
     "output_type": "execute_result"
    }
   ],
   "source": [
    "dfB2.isnull().sum()"
   ]
  },
  {
   "cell_type": "code",
   "execution_count": 14,
   "metadata": {},
   "outputs": [
    {
     "data": {
      "text/plain": [
       "0      False\n",
       "1      False\n",
       "76     False\n",
       "75     False\n",
       "74     False\n",
       "       ...  \n",
       "31     False\n",
       "30     False\n",
       "29     False\n",
       "28     False\n",
       "103    False\n",
       "Length: 104, dtype: bool"
      ]
     },
     "execution_count": 14,
     "metadata": {},
     "output_type": "execute_result"
    }
   ],
   "source": [
    "B2_dupl = dfB2.duplicated()\n",
    "B2_dupl.sort_values(ascending=False) "
   ]
  },
  {
   "attachments": {},
   "cell_type": "markdown",
   "metadata": {},
   "source": [
    "There 104 data entries and four columns in B2 dataset, with 74 Not-a-Number (NaN) / Null present in the head and tail of the column \"Sales\" and no duplicates in the data."
   ]
  },
  {
   "cell_type": "code",
   "execution_count": 15,
   "metadata": {},
   "outputs": [
    {
     "data": {
      "image/png": "[encoded data removed]",
      "text/plain": [
       "<Figure size 1440x360 with 4 Axes>"
      ]
     },
     "metadata": {
      "needs_background": "light"
     },
     "output_type": "display_data"
    }
   ],
   "source": [
    "plt.figure(figsize=(20,5))\n",
    "plt.subplot(1,4,1)\n",
    "sns.lineplot(y='Sales', x='Day', data=dfA1)\n",
    "plt.title('A1')\n",
    "\n",
    "plt.subplot(1,4,2)\n",
    "sns.lineplot(y='Sales', x='Day', data=dfA2)\n",
    "plt.title('A2')\n",
    "\n",
    "plt.subplot(1,4,3)\n",
    "sns.lineplot(y='Sales', x='Day', data=dfB1)\n",
    "plt.title('B1')\n",
    "\n",
    "plt.subplot(1,4,4)\n",
    "sns.lineplot(y='Sales', x='Day', data=dfB2)\n",
    "plt.title('B2')\n",
    "\n",
    "plt.tight_layout()\n",
    "\n",
    "plt.show()"
   ]
  },
  {
   "attachments": {},
   "cell_type": "markdown",
   "metadata": {},
   "source": [
    "From the line plots above, we could ascertain that products A1 and A2 has a positive trend with a consistent seasonality. Product B1 on the other hand has a stagnant trend with a differing seasonality order. Lastly, product B2's shape is sigmoidal in nature. It is interesting to note that product B2's start date is at day 60, different of that from the others, who starts at day 0. "
   ]
  },
  {
   "attachments": {},
   "cell_type": "markdown",
   "metadata": {},
   "source": [
    "### c. Feature Engineering"
   ]
  },
  {
   "attachments": {},
   "cell_type": "markdown",
   "metadata": {},
   "source": [
    "The Feature Engineering is a data preprocessing procedure to prepare the data for use in the model. Here, for certain algorithms, it is required for our datasets to be split into train and test sets."
   ]
  },
  {
   "cell_type": "code",
   "execution_count": 16,
   "metadata": {},
   "outputs": [
    {
     "data": {
      "text/html": [
       "<div>\n",
       "<style scoped>\n",
       "    .dataframe tbody tr th:only-of-type {\n",
       "        vertical-align: middle;\n",
       "    }\n",
       "\n",
       "    .dataframe tbody tr th {\n",
       "        vertical-align: top;\n",
       "    }\n",
       "\n",
       "    .dataframe thead th {\n",
       "        text-align: right;\n",
       "    }\n",
       "</style>\n",
       "<table border=\"1\" class=\"dataframe\">\n",
       "  <thead>\n",
       "    <tr style=\"text-align: right;\">\n",
       "      <th></th>\n",
       "      <th>Day</th>\n",
       "      <th>Category</th>\n",
       "      <th>Product</th>\n",
       "      <th>Sales</th>\n",
       "    </tr>\n",
       "  </thead>\n",
       "  <tbody>\n",
       "    <tr>\n",
       "      <th>76</th>\n",
       "      <td>77</td>\n",
       "      <td>A</td>\n",
       "      <td>A1</td>\n",
       "      <td>195.000000</td>\n",
       "    </tr>\n",
       "    <tr>\n",
       "      <th>77</th>\n",
       "      <td>78</td>\n",
       "      <td>A</td>\n",
       "      <td>A1</td>\n",
       "      <td>187.000000</td>\n",
       "    </tr>\n",
       "    <tr>\n",
       "      <th>78</th>\n",
       "      <td>79</td>\n",
       "      <td>A</td>\n",
       "      <td>A1</td>\n",
       "      <td>187.935000</td>\n",
       "    </tr>\n",
       "    <tr>\n",
       "      <th>79</th>\n",
       "      <td>80</td>\n",
       "      <td>A</td>\n",
       "      <td>A1</td>\n",
       "      <td>188.874675</td>\n",
       "    </tr>\n",
       "    <tr>\n",
       "      <th>80</th>\n",
       "      <td>81</td>\n",
       "      <td>A</td>\n",
       "      <td>A1</td>\n",
       "      <td>189.819048</td>\n",
       "    </tr>\n",
       "    <tr>\n",
       "      <th>81</th>\n",
       "      <td>82</td>\n",
       "      <td>A</td>\n",
       "      <td>A1</td>\n",
       "      <td>190.768144</td>\n",
       "    </tr>\n",
       "    <tr>\n",
       "      <th>82</th>\n",
       "      <td>83</td>\n",
       "      <td>A</td>\n",
       "      <td>A1</td>\n",
       "      <td>191.721984</td>\n",
       "    </tr>\n",
       "    <tr>\n",
       "      <th>83</th>\n",
       "      <td>84</td>\n",
       "      <td>A</td>\n",
       "      <td>A1</td>\n",
       "      <td>210.000000</td>\n",
       "    </tr>\n",
       "    <tr>\n",
       "      <th>84</th>\n",
       "      <td>85</td>\n",
       "      <td>A</td>\n",
       "      <td>A1</td>\n",
       "      <td>196.000000</td>\n",
       "    </tr>\n",
       "    <tr>\n",
       "      <th>85</th>\n",
       "      <td>86</td>\n",
       "      <td>A</td>\n",
       "      <td>A1</td>\n",
       "      <td>196.980000</td>\n",
       "    </tr>\n",
       "    <tr>\n",
       "      <th>86</th>\n",
       "      <td>87</td>\n",
       "      <td>A</td>\n",
       "      <td>A1</td>\n",
       "      <td>197.964900</td>\n",
       "    </tr>\n",
       "    <tr>\n",
       "      <th>87</th>\n",
       "      <td>88</td>\n",
       "      <td>A</td>\n",
       "      <td>A1</td>\n",
       "      <td>198.954724</td>\n",
       "    </tr>\n",
       "    <tr>\n",
       "      <th>88</th>\n",
       "      <td>89</td>\n",
       "      <td>A</td>\n",
       "      <td>A1</td>\n",
       "      <td>199.949498</td>\n",
       "    </tr>\n",
       "    <tr>\n",
       "      <th>89</th>\n",
       "      <td>90</td>\n",
       "      <td>A</td>\n",
       "      <td>A1</td>\n",
       "      <td>200.949246</td>\n",
       "    </tr>\n",
       "  </tbody>\n",
       "</table>\n",
       "</div>"
      ],
      "text/plain": [
       "    Day Category Product       Sales\n",
       "76   77        A      A1  195.000000\n",
       "77   78        A      A1  187.000000\n",
       "78   79        A      A1  187.935000\n",
       "79   80        A      A1  188.874675\n",
       "80   81        A      A1  189.819048\n",
       "81   82        A      A1  190.768144\n",
       "82   83        A      A1  191.721984\n",
       "83   84        A      A1  210.000000\n",
       "84   85        A      A1  196.000000\n",
       "85   86        A      A1  196.980000\n",
       "86   87        A      A1  197.964900\n",
       "87   88        A      A1  198.954724\n",
       "88   89        A      A1  199.949498\n",
       "89   90        A      A1  200.949246"
      ]
     },
     "execution_count": 16,
     "metadata": {},
     "output_type": "execute_result"
    }
   ],
   "source": [
    "dfA1.tail(14)"
   ]
  },
  {
   "cell_type": "code",
   "execution_count": 17,
   "metadata": {},
   "outputs": [
    {
     "data": {
      "text/html": [
       "<div>\n",
       "<style scoped>\n",
       "    .dataframe tbody tr th:only-of-type {\n",
       "        vertical-align: middle;\n",
       "    }\n",
       "\n",
       "    .dataframe tbody tr th {\n",
       "        vertical-align: top;\n",
       "    }\n",
       "\n",
       "    .dataframe thead th {\n",
       "        text-align: right;\n",
       "    }\n",
       "</style>\n",
       "<table border=\"1\" class=\"dataframe\">\n",
       "  <thead>\n",
       "    <tr style=\"text-align: right;\">\n",
       "      <th></th>\n",
       "      <th>Day</th>\n",
       "      <th>Category</th>\n",
       "      <th>Product</th>\n",
       "      <th>Sales</th>\n",
       "    </tr>\n",
       "  </thead>\n",
       "  <tbody>\n",
       "    <tr>\n",
       "      <th>85</th>\n",
       "      <td>86</td>\n",
       "      <td>A</td>\n",
       "      <td>A1</td>\n",
       "      <td>196.980000</td>\n",
       "    </tr>\n",
       "    <tr>\n",
       "      <th>86</th>\n",
       "      <td>87</td>\n",
       "      <td>A</td>\n",
       "      <td>A1</td>\n",
       "      <td>197.964900</td>\n",
       "    </tr>\n",
       "    <tr>\n",
       "      <th>87</th>\n",
       "      <td>88</td>\n",
       "      <td>A</td>\n",
       "      <td>A1</td>\n",
       "      <td>198.954724</td>\n",
       "    </tr>\n",
       "    <tr>\n",
       "      <th>88</th>\n",
       "      <td>89</td>\n",
       "      <td>A</td>\n",
       "      <td>A1</td>\n",
       "      <td>199.949498</td>\n",
       "    </tr>\n",
       "    <tr>\n",
       "      <th>89</th>\n",
       "      <td>90</td>\n",
       "      <td>A</td>\n",
       "      <td>A1</td>\n",
       "      <td>200.949246</td>\n",
       "    </tr>\n",
       "  </tbody>\n",
       "</table>\n",
       "</div>"
      ],
      "text/plain": [
       "    Day Category Product       Sales\n",
       "85   86        A      A1  196.980000\n",
       "86   87        A      A1  197.964900\n",
       "87   88        A      A1  198.954724\n",
       "88   89        A      A1  199.949498\n",
       "89   90        A      A1  200.949246"
      ]
     },
     "execution_count": 17,
     "metadata": {},
     "output_type": "execute_result"
    }
   ],
   "source": [
    "train_A1 = dfA1[0:76] \n",
    "test_A1 = dfA1[76:]\n",
    "\n",
    "test_A1.tail()"
   ]
  },
  {
   "cell_type": "code",
   "execution_count": 18,
   "metadata": {},
   "outputs": [
    {
     "data": {
      "text/html": [
       "<div>\n",
       "<style scoped>\n",
       "    .dataframe tbody tr th:only-of-type {\n",
       "        vertical-align: middle;\n",
       "    }\n",
       "\n",
       "    .dataframe tbody tr th {\n",
       "        vertical-align: top;\n",
       "    }\n",
       "\n",
       "    .dataframe thead th {\n",
       "        text-align: right;\n",
       "    }\n",
       "</style>\n",
       "<table border=\"1\" class=\"dataframe\">\n",
       "  <thead>\n",
       "    <tr style=\"text-align: right;\">\n",
       "      <th></th>\n",
       "      <th>Day</th>\n",
       "      <th>Category</th>\n",
       "      <th>Product</th>\n",
       "      <th>Sales</th>\n",
       "    </tr>\n",
       "  </thead>\n",
       "  <tbody>\n",
       "    <tr>\n",
       "      <th>76</th>\n",
       "      <td>77</td>\n",
       "      <td>A</td>\n",
       "      <td>A2</td>\n",
       "      <td>1505.900688</td>\n",
       "    </tr>\n",
       "    <tr>\n",
       "      <th>77</th>\n",
       "      <td>78</td>\n",
       "      <td>A</td>\n",
       "      <td>A2</td>\n",
       "      <td>1468.205191</td>\n",
       "    </tr>\n",
       "    <tr>\n",
       "      <th>78</th>\n",
       "      <td>79</td>\n",
       "      <td>A</td>\n",
       "      <td>A2</td>\n",
       "      <td>1475.546217</td>\n",
       "    </tr>\n",
       "    <tr>\n",
       "      <th>79</th>\n",
       "      <td>80</td>\n",
       "      <td>A</td>\n",
       "      <td>A2</td>\n",
       "      <td>1482.923948</td>\n",
       "    </tr>\n",
       "    <tr>\n",
       "      <th>80</th>\n",
       "      <td>81</td>\n",
       "      <td>A</td>\n",
       "      <td>A2</td>\n",
       "      <td>1490.338568</td>\n",
       "    </tr>\n",
       "    <tr>\n",
       "      <th>81</th>\n",
       "      <td>82</td>\n",
       "      <td>A</td>\n",
       "      <td>A2</td>\n",
       "      <td>1497.790261</td>\n",
       "    </tr>\n",
       "    <tr>\n",
       "      <th>82</th>\n",
       "      <td>83</td>\n",
       "      <td>A</td>\n",
       "      <td>A2</td>\n",
       "      <td>1505.279212</td>\n",
       "    </tr>\n",
       "    <tr>\n",
       "      <th>83</th>\n",
       "      <td>84</td>\n",
       "      <td>A</td>\n",
       "      <td>A2</td>\n",
       "      <td>1557.805608</td>\n",
       "    </tr>\n",
       "    <tr>\n",
       "      <th>84</th>\n",
       "      <td>85</td>\n",
       "      <td>A</td>\n",
       "      <td>A2</td>\n",
       "      <td>1520.369636</td>\n",
       "    </tr>\n",
       "    <tr>\n",
       "      <th>85</th>\n",
       "      <td>86</td>\n",
       "      <td>A</td>\n",
       "      <td>A2</td>\n",
       "      <td>1527.971484</td>\n",
       "    </tr>\n",
       "    <tr>\n",
       "      <th>86</th>\n",
       "      <td>87</td>\n",
       "      <td>A</td>\n",
       "      <td>A2</td>\n",
       "      <td>1535.611342</td>\n",
       "    </tr>\n",
       "    <tr>\n",
       "      <th>87</th>\n",
       "      <td>88</td>\n",
       "      <td>A</td>\n",
       "      <td>A2</td>\n",
       "      <td>1543.289398</td>\n",
       "    </tr>\n",
       "    <tr>\n",
       "      <th>88</th>\n",
       "      <td>89</td>\n",
       "      <td>A</td>\n",
       "      <td>A2</td>\n",
       "      <td>1551.005845</td>\n",
       "    </tr>\n",
       "    <tr>\n",
       "      <th>89</th>\n",
       "      <td>90</td>\n",
       "      <td>A</td>\n",
       "      <td>A2</td>\n",
       "      <td>1558.760875</td>\n",
       "    </tr>\n",
       "  </tbody>\n",
       "</table>\n",
       "</div>"
      ],
      "text/plain": [
       "    Day Category Product        Sales\n",
       "76   77        A      A2  1505.900688\n",
       "77   78        A      A2  1468.205191\n",
       "78   79        A      A2  1475.546217\n",
       "79   80        A      A2  1482.923948\n",
       "80   81        A      A2  1490.338568\n",
       "81   82        A      A2  1497.790261\n",
       "82   83        A      A2  1505.279212\n",
       "83   84        A      A2  1557.805608\n",
       "84   85        A      A2  1520.369636\n",
       "85   86        A      A2  1527.971484\n",
       "86   87        A      A2  1535.611342\n",
       "87   88        A      A2  1543.289398\n",
       "88   89        A      A2  1551.005845\n",
       "89   90        A      A2  1558.760875"
      ]
     },
     "execution_count": 18,
     "metadata": {},
     "output_type": "execute_result"
    }
   ],
   "source": [
    "dfA2.tail(14)"
   ]
  },
  {
   "cell_type": "code",
   "execution_count": 19,
   "metadata": {},
   "outputs": [
    {
     "data": {
      "text/html": [
       "<div>\n",
       "<style scoped>\n",
       "    .dataframe tbody tr th:only-of-type {\n",
       "        vertical-align: middle;\n",
       "    }\n",
       "\n",
       "    .dataframe tbody tr th {\n",
       "        vertical-align: top;\n",
       "    }\n",
       "\n",
       "    .dataframe thead th {\n",
       "        text-align: right;\n",
       "    }\n",
       "</style>\n",
       "<table border=\"1\" class=\"dataframe\">\n",
       "  <thead>\n",
       "    <tr style=\"text-align: right;\">\n",
       "      <th></th>\n",
       "      <th>Day</th>\n",
       "      <th>Category</th>\n",
       "      <th>Product</th>\n",
       "      <th>Sales</th>\n",
       "    </tr>\n",
       "  </thead>\n",
       "  <tbody>\n",
       "    <tr>\n",
       "      <th>85</th>\n",
       "      <td>86</td>\n",
       "      <td>A</td>\n",
       "      <td>A2</td>\n",
       "      <td>1527.971484</td>\n",
       "    </tr>\n",
       "    <tr>\n",
       "      <th>86</th>\n",
       "      <td>87</td>\n",
       "      <td>A</td>\n",
       "      <td>A2</td>\n",
       "      <td>1535.611342</td>\n",
       "    </tr>\n",
       "    <tr>\n",
       "      <th>87</th>\n",
       "      <td>88</td>\n",
       "      <td>A</td>\n",
       "      <td>A2</td>\n",
       "      <td>1543.289398</td>\n",
       "    </tr>\n",
       "    <tr>\n",
       "      <th>88</th>\n",
       "      <td>89</td>\n",
       "      <td>A</td>\n",
       "      <td>A2</td>\n",
       "      <td>1551.005845</td>\n",
       "    </tr>\n",
       "    <tr>\n",
       "      <th>89</th>\n",
       "      <td>90</td>\n",
       "      <td>A</td>\n",
       "      <td>A2</td>\n",
       "      <td>1558.760875</td>\n",
       "    </tr>\n",
       "  </tbody>\n",
       "</table>\n",
       "</div>"
      ],
      "text/plain": [
       "    Day Category Product        Sales\n",
       "85   86        A      A2  1527.971484\n",
       "86   87        A      A2  1535.611342\n",
       "87   88        A      A2  1543.289398\n",
       "88   89        A      A2  1551.005845\n",
       "89   90        A      A2  1558.760875"
      ]
     },
     "execution_count": 19,
     "metadata": {},
     "output_type": "execute_result"
    }
   ],
   "source": [
    "train_A2 = dfA2[0:76] \n",
    "test_A2 = dfA2[76:]\n",
    "\n",
    "test_A2.tail()"
   ]
  },
  {
   "cell_type": "code",
   "execution_count": 20,
   "metadata": {},
   "outputs": [],
   "source": [
    "dfB1.dropna(inplace=True)"
   ]
  },
  {
   "cell_type": "code",
   "execution_count": 21,
   "metadata": {},
   "outputs": [
    {
     "data": {
      "text/html": [
       "<div>\n",
       "<style scoped>\n",
       "    .dataframe tbody tr th:only-of-type {\n",
       "        vertical-align: middle;\n",
       "    }\n",
       "\n",
       "    .dataframe tbody tr th {\n",
       "        vertical-align: top;\n",
       "    }\n",
       "\n",
       "    .dataframe thead th {\n",
       "        text-align: right;\n",
       "    }\n",
       "</style>\n",
       "<table border=\"1\" class=\"dataframe\">\n",
       "  <thead>\n",
       "    <tr style=\"text-align: right;\">\n",
       "      <th></th>\n",
       "      <th>Day</th>\n",
       "      <th>Category</th>\n",
       "      <th>Product</th>\n",
       "      <th>Sales</th>\n",
       "      <th>Event</th>\n",
       "    </tr>\n",
       "  </thead>\n",
       "  <tbody>\n",
       "    <tr>\n",
       "      <th>76</th>\n",
       "      <td>77</td>\n",
       "      <td>B</td>\n",
       "      <td>B1</td>\n",
       "      <td>1545.0</td>\n",
       "      <td>1</td>\n",
       "    </tr>\n",
       "    <tr>\n",
       "      <th>77</th>\n",
       "      <td>78</td>\n",
       "      <td>B</td>\n",
       "      <td>B1</td>\n",
       "      <td>990.0</td>\n",
       "      <td>0</td>\n",
       "    </tr>\n",
       "    <tr>\n",
       "      <th>78</th>\n",
       "      <td>79</td>\n",
       "      <td>B</td>\n",
       "      <td>B1</td>\n",
       "      <td>1020.0</td>\n",
       "      <td>0</td>\n",
       "    </tr>\n",
       "    <tr>\n",
       "      <th>79</th>\n",
       "      <td>80</td>\n",
       "      <td>B</td>\n",
       "      <td>B1</td>\n",
       "      <td>1020.0</td>\n",
       "      <td>0</td>\n",
       "    </tr>\n",
       "    <tr>\n",
       "      <th>80</th>\n",
       "      <td>81</td>\n",
       "      <td>B</td>\n",
       "      <td>B1</td>\n",
       "      <td>1020.0</td>\n",
       "      <td>0</td>\n",
       "    </tr>\n",
       "    <tr>\n",
       "      <th>81</th>\n",
       "      <td>82</td>\n",
       "      <td>B</td>\n",
       "      <td>B1</td>\n",
       "      <td>990.0</td>\n",
       "      <td>0</td>\n",
       "    </tr>\n",
       "    <tr>\n",
       "      <th>82</th>\n",
       "      <td>83</td>\n",
       "      <td>B</td>\n",
       "      <td>B1</td>\n",
       "      <td>1020.0</td>\n",
       "      <td>0</td>\n",
       "    </tr>\n",
       "    <tr>\n",
       "      <th>83</th>\n",
       "      <td>84</td>\n",
       "      <td>B</td>\n",
       "      <td>B1</td>\n",
       "      <td>980.0</td>\n",
       "      <td>0</td>\n",
       "    </tr>\n",
       "    <tr>\n",
       "      <th>84</th>\n",
       "      <td>85</td>\n",
       "      <td>B</td>\n",
       "      <td>B1</td>\n",
       "      <td>980.0</td>\n",
       "      <td>0</td>\n",
       "    </tr>\n",
       "    <tr>\n",
       "      <th>85</th>\n",
       "      <td>86</td>\n",
       "      <td>B</td>\n",
       "      <td>B1</td>\n",
       "      <td>1010.0</td>\n",
       "      <td>0</td>\n",
       "    </tr>\n",
       "    <tr>\n",
       "      <th>86</th>\n",
       "      <td>87</td>\n",
       "      <td>B</td>\n",
       "      <td>B1</td>\n",
       "      <td>1020.0</td>\n",
       "      <td>0</td>\n",
       "    </tr>\n",
       "    <tr>\n",
       "      <th>87</th>\n",
       "      <td>88</td>\n",
       "      <td>B</td>\n",
       "      <td>B1</td>\n",
       "      <td>1455.0</td>\n",
       "      <td>1</td>\n",
       "    </tr>\n",
       "    <tr>\n",
       "      <th>88</th>\n",
       "      <td>89</td>\n",
       "      <td>B</td>\n",
       "      <td>B1</td>\n",
       "      <td>1010.0</td>\n",
       "      <td>0</td>\n",
       "    </tr>\n",
       "    <tr>\n",
       "      <th>89</th>\n",
       "      <td>90</td>\n",
       "      <td>B</td>\n",
       "      <td>B1</td>\n",
       "      <td>990.0</td>\n",
       "      <td>0</td>\n",
       "    </tr>\n",
       "  </tbody>\n",
       "</table>\n",
       "</div>"
      ],
      "text/plain": [
       "    Day Category Product   Sales  Event\n",
       "76   77        B      B1  1545.0      1\n",
       "77   78        B      B1   990.0      0\n",
       "78   79        B      B1  1020.0      0\n",
       "79   80        B      B1  1020.0      0\n",
       "80   81        B      B1  1020.0      0\n",
       "81   82        B      B1   990.0      0\n",
       "82   83        B      B1  1020.0      0\n",
       "83   84        B      B1   980.0      0\n",
       "84   85        B      B1   980.0      0\n",
       "85   86        B      B1  1010.0      0\n",
       "86   87        B      B1  1020.0      0\n",
       "87   88        B      B1  1455.0      1\n",
       "88   89        B      B1  1010.0      0\n",
       "89   90        B      B1   990.0      0"
      ]
     },
     "execution_count": 21,
     "metadata": {},
     "output_type": "execute_result"
    }
   ],
   "source": [
    "dfB1.tail(14)"
   ]
  },
  {
   "cell_type": "code",
   "execution_count": 22,
   "metadata": {},
   "outputs": [
    {
     "data": {
      "text/html": [
       "<div>\n",
       "<style scoped>\n",
       "    .dataframe tbody tr th:only-of-type {\n",
       "        vertical-align: middle;\n",
       "    }\n",
       "\n",
       "    .dataframe tbody tr th {\n",
       "        vertical-align: top;\n",
       "    }\n",
       "\n",
       "    .dataframe thead th {\n",
       "        text-align: right;\n",
       "    }\n",
       "</style>\n",
       "<table border=\"1\" class=\"dataframe\">\n",
       "  <thead>\n",
       "    <tr style=\"text-align: right;\">\n",
       "      <th></th>\n",
       "      <th>Day</th>\n",
       "      <th>Category</th>\n",
       "      <th>Product</th>\n",
       "      <th>Sales</th>\n",
       "      <th>Event</th>\n",
       "    </tr>\n",
       "  </thead>\n",
       "  <tbody>\n",
       "    <tr>\n",
       "      <th>85</th>\n",
       "      <td>86</td>\n",
       "      <td>B</td>\n",
       "      <td>B1</td>\n",
       "      <td>1010.0</td>\n",
       "      <td>0</td>\n",
       "    </tr>\n",
       "    <tr>\n",
       "      <th>86</th>\n",
       "      <td>87</td>\n",
       "      <td>B</td>\n",
       "      <td>B1</td>\n",
       "      <td>1020.0</td>\n",
       "      <td>0</td>\n",
       "    </tr>\n",
       "    <tr>\n",
       "      <th>87</th>\n",
       "      <td>88</td>\n",
       "      <td>B</td>\n",
       "      <td>B1</td>\n",
       "      <td>1455.0</td>\n",
       "      <td>1</td>\n",
       "    </tr>\n",
       "    <tr>\n",
       "      <th>88</th>\n",
       "      <td>89</td>\n",
       "      <td>B</td>\n",
       "      <td>B1</td>\n",
       "      <td>1010.0</td>\n",
       "      <td>0</td>\n",
       "    </tr>\n",
       "    <tr>\n",
       "      <th>89</th>\n",
       "      <td>90</td>\n",
       "      <td>B</td>\n",
       "      <td>B1</td>\n",
       "      <td>990.0</td>\n",
       "      <td>0</td>\n",
       "    </tr>\n",
       "  </tbody>\n",
       "</table>\n",
       "</div>"
      ],
      "text/plain": [
       "    Day Category Product   Sales  Event\n",
       "85   86        B      B1  1010.0      0\n",
       "86   87        B      B1  1020.0      0\n",
       "87   88        B      B1  1455.0      1\n",
       "88   89        B      B1  1010.0      0\n",
       "89   90        B      B1   990.0      0"
      ]
     },
     "execution_count": 22,
     "metadata": {},
     "output_type": "execute_result"
    }
   ],
   "source": [
    "train_B1 = dfB1[0:76] \n",
    "test_B1 = dfB1[76:]\n",
    "\n",
    "test_B1.tail()"
   ]
  },
  {
   "cell_type": "code",
   "execution_count": 23,
   "metadata": {},
   "outputs": [],
   "source": [
    "dfB2.dropna(inplace=True)\n",
    "dfB2.reset_index(inplace=True)"
   ]
  },
  {
   "cell_type": "code",
   "execution_count": 24,
   "metadata": {},
   "outputs": [
    {
     "data": {
      "text/html": [
       "<div>\n",
       "<style scoped>\n",
       "    .dataframe tbody tr th:only-of-type {\n",
       "        vertical-align: middle;\n",
       "    }\n",
       "\n",
       "    .dataframe tbody tr th {\n",
       "        vertical-align: top;\n",
       "    }\n",
       "\n",
       "    .dataframe thead th {\n",
       "        text-align: right;\n",
       "    }\n",
       "</style>\n",
       "<table border=\"1\" class=\"dataframe\">\n",
       "  <thead>\n",
       "    <tr style=\"text-align: right;\">\n",
       "      <th></th>\n",
       "      <th>index</th>\n",
       "      <th>Day</th>\n",
       "      <th>Category</th>\n",
       "      <th>Product</th>\n",
       "      <th>Sales</th>\n",
       "    </tr>\n",
       "  </thead>\n",
       "  <tbody>\n",
       "    <tr>\n",
       "      <th>16</th>\n",
       "      <td>76</td>\n",
       "      <td>77</td>\n",
       "      <td>B</td>\n",
       "      <td>B2</td>\n",
       "      <td>3991.420800</td>\n",
       "    </tr>\n",
       "    <tr>\n",
       "      <th>17</th>\n",
       "      <td>77</td>\n",
       "      <td>78</td>\n",
       "      <td>B</td>\n",
       "      <td>B2</td>\n",
       "      <td>4310.734464</td>\n",
       "    </tr>\n",
       "    <tr>\n",
       "      <th>18</th>\n",
       "      <td>78</td>\n",
       "      <td>79</td>\n",
       "      <td>B</td>\n",
       "      <td>B2</td>\n",
       "      <td>4440.056498</td>\n",
       "    </tr>\n",
       "    <tr>\n",
       "      <th>19</th>\n",
       "      <td>79</td>\n",
       "      <td>80</td>\n",
       "      <td>B</td>\n",
       "      <td>B2</td>\n",
       "      <td>4573.258193</td>\n",
       "    </tr>\n",
       "    <tr>\n",
       "      <th>20</th>\n",
       "      <td>80</td>\n",
       "      <td>81</td>\n",
       "      <td>B</td>\n",
       "      <td>B2</td>\n",
       "      <td>4710.455939</td>\n",
       "    </tr>\n",
       "    <tr>\n",
       "      <th>21</th>\n",
       "      <td>81</td>\n",
       "      <td>82</td>\n",
       "      <td>B</td>\n",
       "      <td>B2</td>\n",
       "      <td>4748.139586</td>\n",
       "    </tr>\n",
       "    <tr>\n",
       "      <th>22</th>\n",
       "      <td>82</td>\n",
       "      <td>83</td>\n",
       "      <td>B</td>\n",
       "      <td>B2</td>\n",
       "      <td>4786.124703</td>\n",
       "    </tr>\n",
       "    <tr>\n",
       "      <th>23</th>\n",
       "      <td>83</td>\n",
       "      <td>84</td>\n",
       "      <td>B</td>\n",
       "      <td>B2</td>\n",
       "      <td>4824.413700</td>\n",
       "    </tr>\n",
       "    <tr>\n",
       "      <th>24</th>\n",
       "      <td>84</td>\n",
       "      <td>85</td>\n",
       "      <td>B</td>\n",
       "      <td>B2</td>\n",
       "      <td>4863.009010</td>\n",
       "    </tr>\n",
       "    <tr>\n",
       "      <th>25</th>\n",
       "      <td>85</td>\n",
       "      <td>86</td>\n",
       "      <td>B</td>\n",
       "      <td>B2</td>\n",
       "      <td>4901.913082</td>\n",
       "    </tr>\n",
       "    <tr>\n",
       "      <th>26</th>\n",
       "      <td>86</td>\n",
       "      <td>87</td>\n",
       "      <td>B</td>\n",
       "      <td>B2</td>\n",
       "      <td>4941.128387</td>\n",
       "    </tr>\n",
       "    <tr>\n",
       "      <th>27</th>\n",
       "      <td>87</td>\n",
       "      <td>88</td>\n",
       "      <td>B</td>\n",
       "      <td>B2</td>\n",
       "      <td>4980.657414</td>\n",
       "    </tr>\n",
       "    <tr>\n",
       "      <th>28</th>\n",
       "      <td>88</td>\n",
       "      <td>89</td>\n",
       "      <td>B</td>\n",
       "      <td>B2</td>\n",
       "      <td>4900.000000</td>\n",
       "    </tr>\n",
       "    <tr>\n",
       "      <th>29</th>\n",
       "      <td>89</td>\n",
       "      <td>90</td>\n",
       "      <td>B</td>\n",
       "      <td>B2</td>\n",
       "      <td>4850.000000</td>\n",
       "    </tr>\n",
       "  </tbody>\n",
       "</table>\n",
       "</div>"
      ],
      "text/plain": [
       "    index  Day Category Product        Sales\n",
       "16     76   77        B      B2  3991.420800\n",
       "17     77   78        B      B2  4310.734464\n",
       "18     78   79        B      B2  4440.056498\n",
       "19     79   80        B      B2  4573.258193\n",
       "20     80   81        B      B2  4710.455939\n",
       "21     81   82        B      B2  4748.139586\n",
       "22     82   83        B      B2  4786.124703\n",
       "23     83   84        B      B2  4824.413700\n",
       "24     84   85        B      B2  4863.009010\n",
       "25     85   86        B      B2  4901.913082\n",
       "26     86   87        B      B2  4941.128387\n",
       "27     87   88        B      B2  4980.657414\n",
       "28     88   89        B      B2  4900.000000\n",
       "29     89   90        B      B2  4850.000000"
      ]
     },
     "execution_count": 24,
     "metadata": {},
     "output_type": "execute_result"
    }
   ],
   "source": [
    "dfB2.tail(14)"
   ]
  },
  {
   "cell_type": "code",
   "execution_count": 26,
   "metadata": {},
   "outputs": [
    {
     "data": {
      "text/html": [
       "<div>\n",
       "<style scoped>\n",
       "    .dataframe tbody tr th:only-of-type {\n",
       "        vertical-align: middle;\n",
       "    }\n",
       "\n",
       "    .dataframe tbody tr th {\n",
       "        vertical-align: top;\n",
       "    }\n",
       "\n",
       "    .dataframe thead th {\n",
       "        text-align: right;\n",
       "    }\n",
       "</style>\n",
       "<table border=\"1\" class=\"dataframe\">\n",
       "  <thead>\n",
       "    <tr style=\"text-align: right;\">\n",
       "      <th></th>\n",
       "      <th>index</th>\n",
       "      <th>Day</th>\n",
       "      <th>Category</th>\n",
       "      <th>Product</th>\n",
       "      <th>Sales</th>\n",
       "    </tr>\n",
       "  </thead>\n",
       "  <tbody>\n",
       "    <tr>\n",
       "      <th>16</th>\n",
       "      <td>76</td>\n",
       "      <td>77</td>\n",
       "      <td>B</td>\n",
       "      <td>B2</td>\n",
       "      <td>3991.420800</td>\n",
       "    </tr>\n",
       "    <tr>\n",
       "      <th>17</th>\n",
       "      <td>77</td>\n",
       "      <td>78</td>\n",
       "      <td>B</td>\n",
       "      <td>B2</td>\n",
       "      <td>4310.734464</td>\n",
       "    </tr>\n",
       "    <tr>\n",
       "      <th>18</th>\n",
       "      <td>78</td>\n",
       "      <td>79</td>\n",
       "      <td>B</td>\n",
       "      <td>B2</td>\n",
       "      <td>4440.056498</td>\n",
       "    </tr>\n",
       "    <tr>\n",
       "      <th>19</th>\n",
       "      <td>79</td>\n",
       "      <td>80</td>\n",
       "      <td>B</td>\n",
       "      <td>B2</td>\n",
       "      <td>4573.258193</td>\n",
       "    </tr>\n",
       "    <tr>\n",
       "      <th>20</th>\n",
       "      <td>80</td>\n",
       "      <td>81</td>\n",
       "      <td>B</td>\n",
       "      <td>B2</td>\n",
       "      <td>4710.455939</td>\n",
       "    </tr>\n",
       "    <tr>\n",
       "      <th>21</th>\n",
       "      <td>81</td>\n",
       "      <td>82</td>\n",
       "      <td>B</td>\n",
       "      <td>B2</td>\n",
       "      <td>4748.139586</td>\n",
       "    </tr>\n",
       "    <tr>\n",
       "      <th>22</th>\n",
       "      <td>82</td>\n",
       "      <td>83</td>\n",
       "      <td>B</td>\n",
       "      <td>B2</td>\n",
       "      <td>4786.124703</td>\n",
       "    </tr>\n",
       "    <tr>\n",
       "      <th>23</th>\n",
       "      <td>83</td>\n",
       "      <td>84</td>\n",
       "      <td>B</td>\n",
       "      <td>B2</td>\n",
       "      <td>4824.413700</td>\n",
       "    </tr>\n",
       "    <tr>\n",
       "      <th>24</th>\n",
       "      <td>84</td>\n",
       "      <td>85</td>\n",
       "      <td>B</td>\n",
       "      <td>B2</td>\n",
       "      <td>4863.009010</td>\n",
       "    </tr>\n",
       "    <tr>\n",
       "      <th>25</th>\n",
       "      <td>85</td>\n",
       "      <td>86</td>\n",
       "      <td>B</td>\n",
       "      <td>B2</td>\n",
       "      <td>4901.913082</td>\n",
       "    </tr>\n",
       "    <tr>\n",
       "      <th>26</th>\n",
       "      <td>86</td>\n",
       "      <td>87</td>\n",
       "      <td>B</td>\n",
       "      <td>B2</td>\n",
       "      <td>4941.128387</td>\n",
       "    </tr>\n",
       "    <tr>\n",
       "      <th>27</th>\n",
       "      <td>87</td>\n",
       "      <td>88</td>\n",
       "      <td>B</td>\n",
       "      <td>B2</td>\n",
       "      <td>4980.657414</td>\n",
       "    </tr>\n",
       "    <tr>\n",
       "      <th>28</th>\n",
       "      <td>88</td>\n",
       "      <td>89</td>\n",
       "      <td>B</td>\n",
       "      <td>B2</td>\n",
       "      <td>4900.000000</td>\n",
       "    </tr>\n",
       "    <tr>\n",
       "      <th>29</th>\n",
       "      <td>89</td>\n",
       "      <td>90</td>\n",
       "      <td>B</td>\n",
       "      <td>B2</td>\n",
       "      <td>4850.000000</td>\n",
       "    </tr>\n",
       "  </tbody>\n",
       "</table>\n",
       "</div>"
      ],
      "text/plain": [
       "    index  Day Category Product        Sales\n",
       "16     76   77        B      B2  3991.420800\n",
       "17     77   78        B      B2  4310.734464\n",
       "18     78   79        B      B2  4440.056498\n",
       "19     79   80        B      B2  4573.258193\n",
       "20     80   81        B      B2  4710.455939\n",
       "21     81   82        B      B2  4748.139586\n",
       "22     82   83        B      B2  4786.124703\n",
       "23     83   84        B      B2  4824.413700\n",
       "24     84   85        B      B2  4863.009010\n",
       "25     85   86        B      B2  4901.913082\n",
       "26     86   87        B      B2  4941.128387\n",
       "27     87   88        B      B2  4980.657414\n",
       "28     88   89        B      B2  4900.000000\n",
       "29     89   90        B      B2  4850.000000"
      ]
     },
     "execution_count": 26,
     "metadata": {},
     "output_type": "execute_result"
    }
   ],
   "source": [
    "train_B2 = dfB2[0:16] \n",
    "test_B2 = dfB2[16:]\n",
    "\n",
    "test_B2.tail(14)"
   ]
  },
  {
   "attachments": {},
   "cell_type": "markdown",
   "metadata": {},
   "source": [
    "### d. Forecasting"
   ]
  },
  {
   "attachments": {},
   "cell_type": "markdown",
   "metadata": {},
   "source": [
    "Considering the shapes of our datasets, those with seasonalities and some with non-linear shapes, we will be using two algorithms that could yield the best results."
   ]
  },
  {
   "attachments": {},
   "cell_type": "markdown",
   "metadata": {},
   "source": [
    "#### 1. Product A1"
   ]
  },
  {
   "attachments": {},
   "cell_type": "markdown",
   "metadata": {},
   "source": [
    "##### i. Holt-Winters"
   ]
  },
  {
   "cell_type": "code",
   "execution_count": 47,
   "metadata": {},
   "outputs": [
    {
     "data": {
      "image/png": "[encoded data removed]",
      "text/plain": [
       "<Figure size 1440x576 with 1 Axes>"
      ]
     },
     "metadata": {
      "needs_background": "light"
     },
     "output_type": "display_data"
    }
   ],
   "source": [
    "y_hw_A1 = test_A1.copy()\n",
    "fit1 = ExponentialSmoothing(np.asarray(train_A1['Sales']) ,seasonal_periods=7 ,trend='add', seasonal='multiplicative',).fit()\n",
    "y_hw_A1['Holt_Winter'] = fit1.forecast(len(test_A1))\n",
    "plt.figure(figsize=(20,8))\n",
    "plt.plot(train_A1['Sales'], label='Train A1')\n",
    "plt.plot(test_A1['Sales'], label='Test A1')\n",
    "plt.plot(y_hw_A1['Holt_Winter'], label='Holt_Winter')\n",
    "plt.legend(loc='best')\n",
    "plt.show()"
   ]
  },
  {
   "cell_type": "code",
   "execution_count": 48,
   "metadata": {},
   "outputs": [
    {
     "name": "stdout",
     "output_type": "stream",
     "text": [
      "mae : 1.2066481377109122\n",
      "rmse : 1.8316021689106798\n"
     ]
    }
   ],
   "source": [
    "print(\"mae :\", mean_absolute_error(test_A1.Sales, y_hw_A1.Holt_Winter))\n",
    "print(\"rmse :\", sqrt(mean_squared_error(test_A1.Sales, y_hw_A1.Holt_Winter)))"
   ]
  },
  {
   "attachments": {},
   "cell_type": "markdown",
   "metadata": {},
   "source": [
    "Interpretation of results:\n",
    "\n",
    "- The Mean Absolute Error (MAE) represents the average of the absolute difference between the actual and predicted values in the dataset. It measures the average of the residuals in the dataset.\n",
    "\n",
    "- Root Mean Squared Error (RMSE) is the square root of Mean Squared Error. It measures the standard deviation of residuals.\n",
    "\n",
    "RMSE penalizes the large prediction errors, such as that of the MAE. However, RMSE is widely used than MSE to evaluate the performance of the regression model with other random models as it has the same units as the target variable (y-axis). Nonetheless, they hold relatively similar information, albeit by different procedures.\n",
    "\n",
    "The lower value of MAE and RMSE implies higher accuracy of a regression model.\n",
    "\n",
    "Reference: https://medium.com/analytics-vidhya/mae-mse-rmse-coefficient-of-determination-adjusted-r-squared-which-metric-is-better-cd0326a5697e\n",
    "\n",
    "We are aiming to compare the accuracy among different models. Therefore, RMSE will be used."
   ]
  },
  {
   "attachments": {},
   "cell_type": "markdown",
   "metadata": {},
   "source": [
    "Here, we can see that RMSE score is 1.83. Considering that the model will be predicting numbers in the hundreds, for example 200, it would still acceptable for the model to predict lower or higher by 1.83 from that number. This is a simplification on what the RMSE number could represent."
   ]
  },
  {
   "attachments": {},
   "cell_type": "markdown",
   "metadata": {},
   "source": [
    "##### ii. SARIMAX"
   ]
  },
  {
   "cell_type": "code",
   "execution_count": 23,
   "metadata": {},
   "outputs": [
    {
     "name": "stderr",
     "output_type": "stream",
     "text": [
      "c:\\Users\\radya\\anaconda3\\lib\\site-packages\\statsmodels\\base\\model.py:604: ConvergenceWarning: Maximum Likelihood optimization failed to converge. Check mle_retvals\n",
      "  warnings.warn(\"Maximum Likelihood optimization failed to \"\n"
     ]
    },
    {
     "data": {
      "image/png": "[encoded data removed]",
      "text/plain": [
       "<Figure size 432x288 with 1 Axes>"
      ]
     },
     "metadata": {
      "needs_background": "light"
     },
     "output_type": "display_data"
    },
    {
     "name": "stdout",
     "output_type": "stream",
     "text": [
      "MAE : 0.5255605901154894\n",
      "RMSE : 0.7757579287577294\n"
     ]
    }
   ],
   "source": [
    "model=sm.tsa.statespace.SARIMAX(dfA1['Sales'],order=(1,0,0),seasonal_order=(9,2,14,7))\n",
    "results = model.fit()\n",
    "# Creating Prediction and forecast data\n",
    "dfA1['Predict'] = results.predict(start=76, end=90, dynamic=True)\n",
    "forecast14 = results.forecast(steps=14)\n",
    "# Plotting Sales and Prediction\n",
    "plt.plot(dfA1.index, dfA1['Sales'], label='Sales')\n",
    "plt.plot(dfA1.index, dfA1['Predict'], label='Predict')\n",
    "plt.plot(forecast14.index, forecast14, label='Forecast')\n",
    "plt.xticks(rotation=45)\n",
    "plt.xlabel('Date')\n",
    "plt.ylabel('Sales')\n",
    "plt.title('dfA1 Sales Forecast')\n",
    "plt.legend()\n",
    "plt.show()\n",
    "# Printing error evaluation\n",
    "print(\"MAE :\", mean_absolute_error(dfA1.Sales.iloc[76:90], dfA1.Predict.iloc[76:90]))\n",
    "print(\"RMSE :\", sqrt(mean_squared_error(dfA1.Sales.iloc[76:90], dfA1.Predict.iloc[76:90])))"
   ]
  },
  {
   "attachments": {},
   "cell_type": "markdown",
   "metadata": {},
   "source": [
    "The RMSE score using the SARIMAX model is much better than that of Holt-Winters at 0.77."
   ]
  },
  {
   "attachments": {},
   "cell_type": "markdown",
   "metadata": {},
   "source": [
    "#### 2. Product A2"
   ]
  },
  {
   "attachments": {},
   "cell_type": "markdown",
   "metadata": {},
   "source": [
    "##### i. Holt-Winters"
   ]
  },
  {
   "cell_type": "code",
   "execution_count": 204,
   "metadata": {},
   "outputs": [
    {
     "data": {
      "image/png": "[encoded data removed]",
      "text/plain": [
       "<Figure size 1440x576 with 1 Axes>"
      ]
     },
     "metadata": {
      "needs_background": "light"
     },
     "output_type": "display_data"
    }
   ],
   "source": [
    "y_hw_A2 = test_A2.copy()\n",
    "fit1 = ExponentialSmoothing(np.asarray(train_A2['Sales']) ,seasonal_periods=7 ,trend='multiplicative', seasonal='add').fit()\n",
    "y_hw_A2['Holt_Winter'] = fit1.forecast(len(test_A2))\n",
    "plt.figure(figsize=(20,8))\n",
    "plt.plot(train_A2['Sales'], label='Train A2')\n",
    "plt.plot(test_A2['Sales'], label='Test A2')\n",
    "plt.plot(y_hw_A2['Holt_Winter'], label='Holt_Winter')\n",
    "plt.legend(loc='best')\n",
    "plt.show()"
   ]
  },
  {
   "cell_type": "code",
   "execution_count": 205,
   "metadata": {},
   "outputs": [
    {
     "name": "stdout",
     "output_type": "stream",
     "text": [
      "mae : 0.06354442640827074\n",
      "rmse : 0.07348849610375177\n"
     ]
    }
   ],
   "source": [
    "print(\"mae :\", mean_absolute_error(test_A2.Sales, y_hw_A2.Holt_Winter))\n",
    "print(\"rmse :\", sqrt(mean_squared_error(test_A2.Sales, y_hw_A2.Holt_Winter)))"
   ]
  },
  {
   "attachments": {},
   "cell_type": "markdown",
   "metadata": {},
   "source": [
    "The RMSE score here is a 0.073, where the predictions is at the thousands."
   ]
  },
  {
   "attachments": {},
   "cell_type": "markdown",
   "metadata": {},
   "source": [
    "##### ii. SARIMAX"
   ]
  },
  {
   "cell_type": "code",
   "execution_count": 21,
   "metadata": {},
   "outputs": [
    {
     "data": {
      "image/png": "[encoded data removed]",
      "text/plain": [
       "<Figure size 432x288 with 1 Axes>"
      ]
     },
     "metadata": {
      "needs_background": "light"
     },
     "output_type": "display_data"
    },
    {
     "name": "stdout",
     "output_type": "stream",
     "text": [
      "MAE : 3.5225755861205243\n",
      "RMSE : 3.9455155412903444\n"
     ]
    }
   ],
   "source": [
    "model=sm.tsa.statespace.SARIMAX(dfA2['Sales'],order=(1,0,0),seasonal_order=(8,2,0,7))\n",
    "results = model.fit()\n",
    "# Creating Prediction and forecast data\n",
    "dfA2['Predict'] = results.predict(start=76, end=90, dynamic=True)\n",
    "forecast14 = results.forecast(steps=14)\n",
    "# Plotting Sales and Prediction\n",
    "plt.plot(dfA2.index, dfA2['Sales'], label='Sales')\n",
    "plt.plot(dfA2.index, dfA2['Predict'], label='Predict')\n",
    "plt.plot(forecast14.index, forecast14, label='Forecast')\n",
    "plt.xticks(rotation=45)\n",
    "plt.xlabel('Date')\n",
    "plt.ylabel('Sales')\n",
    "plt.title('dfA2 Sales Forecast')\n",
    "plt.legend()\n",
    "plt.show()\n",
    "# Printing error evaluation\n",
    "print(\"MAE :\", mean_absolute_error(dfA2.Sales.iloc[76:90], dfA2.Predict.iloc[76:90]))\n",
    "print(\"RMSE :\", sqrt(mean_squared_error(dfA2.Sales.iloc[76:90], dfA2.Predict.iloc[76:90])))"
   ]
  },
  {
   "attachments": {},
   "cell_type": "markdown",
   "metadata": {},
   "source": [
    "The RMSE score is lower of that from the Holt-Winters model, but still at an acceptable 3.94 considering that the predictions will be made in the thousands."
   ]
  },
  {
   "attachments": {},
   "cell_type": "markdown",
   "metadata": {},
   "source": [
    "#### 3. Product B1"
   ]
  },
  {
   "attachments": {},
   "cell_type": "markdown",
   "metadata": {},
   "source": [
    "##### i. Holt-Winters"
   ]
  },
  {
   "cell_type": "code",
   "execution_count": 214,
   "metadata": {},
   "outputs": [
    {
     "data": {
      "image/png": "[encoded data removed]",
      "text/plain": [
       "<Figure size 1440x576 with 1 Axes>"
      ]
     },
     "metadata": {
      "needs_background": "light"
     },
     "output_type": "display_data"
    }
   ],
   "source": [
    "y_hw_B1 = test_B1.copy()\n",
    "fit1 = ExponentialSmoothing(np.asarray(train_B1['Sales']) ,seasonal_periods=14 ,trend='multiplicative', seasonal='add',).fit()\n",
    "y_hw_B1['Holt_Winter'] = fit1.forecast(len(test_B1))\n",
    "plt.figure(figsize=(20,8))\n",
    "plt.plot(train_B1['Sales'], label='Train B1')\n",
    "plt.plot(test_B1['Sales'], label='Test B1')\n",
    "plt.plot(y_hw_B1['Holt_Winter'], label='Holt_Winter')\n",
    "plt.legend(loc='best')\n",
    "plt.show()"
   ]
  },
  {
   "cell_type": "code",
   "execution_count": 215,
   "metadata": {},
   "outputs": [
    {
     "name": "stdout",
     "output_type": "stream",
     "text": [
      "mae : 128.3243380691593\n",
      "rmse : 221.36727561913568\n"
     ]
    }
   ],
   "source": [
    "print(\"mae :\", mean_absolute_error(test_B1.Sales, y_hw_B1.Holt_Winter))\n",
    "print(\"rmse :\", sqrt(mean_squared_error(test_B1.Sales, y_hw_B1.Holt_Winter)))"
   ]
  },
  {
   "attachments": {},
   "cell_type": "markdown",
   "metadata": {},
   "source": [
    "The RMSE score for product B1 using the Holt-Winters model is high at 221, where predictions are made in the thousands. This is unacceptable. "
   ]
  },
  {
   "attachments": {},
   "cell_type": "markdown",
   "metadata": {},
   "source": [
    "##### ii. SARIMAX"
   ]
  },
  {
   "cell_type": "code",
   "execution_count": 22,
   "metadata": {},
   "outputs": [
    {
     "name": "stderr",
     "output_type": "stream",
     "text": [
      "c:\\Users\\radya\\anaconda3\\lib\\site-packages\\statsmodels\\base\\model.py:604: ConvergenceWarning: Maximum Likelihood optimization failed to converge. Check mle_retvals\n",
      "  warnings.warn(\"Maximum Likelihood optimization failed to \"\n"
     ]
    },
    {
     "data": {
      "image/png": "[encoded data removed]",
      "text/plain": [
       "<Figure size 432x288 with 1 Axes>"
      ]
     },
     "metadata": {
      "needs_background": "light"
     },
     "output_type": "display_data"
    },
    {
     "name": "stdout",
     "output_type": "stream",
     "text": [
      "MAE : 27.260544236687192\n",
      "RMSE : 32.74976903866272\n"
     ]
    }
   ],
   "source": [
    "model=sm.tsa.statespace.SARIMAX(dfB1['Sales'],exog=dfB1[['Event']],order=(0,0,0),seasonal_order=(12,1,1,9))\n",
    "results = model.fit()\n",
    "# Creating Prediction and forecast data\n",
    "dfB1['Predict'] = results.predict(start=76, end=90,exog=dfB1[['Event']].iloc[75], dynamic=True)\n",
    "forecast14= results.predict(start=91,exog=dfB1[['Event']].iloc[90:])\n",
    "# Plotting Sales and Prediction\n",
    "plt.plot(dfB1.index, dfB1['Sales'], label='Sales')\n",
    "plt.plot(dfB1.index, dfB1['Predict'], label='Predict')\n",
    "plt.plot(forecast14.index, forecast14, label='Forecast')\n",
    "plt.xlabel('Date')\n",
    "plt.ylabel('Sales')\n",
    "plt.title('Sales Forecast')\n",
    "plt.legend()\n",
    "plt.show()\n",
    "# Printing error evaluation\n",
    "print(\"MAE :\", mean_absolute_error(dfB1.Sales.iloc[76:90], dfB1.Predict.iloc[76:90]))\n",
    "print(\"RMSE :\", sqrt(mean_squared_error(dfB1.Sales.iloc[76:90], dfB1.Predict.iloc[76:90])))"
   ]
  },
  {
   "attachments": {},
   "cell_type": "markdown",
   "metadata": {},
   "source": [
    "The RMSE score has improved massively with the SARIMAX model, and is now acceptable at 32.75."
   ]
  },
  {
   "attachments": {},
   "cell_type": "markdown",
   "metadata": {},
   "source": [
    "#### 4. Product B2"
   ]
  },
  {
   "attachments": {},
   "cell_type": "markdown",
   "metadata": {},
   "source": [
    "##### i. Holt-Winters"
   ]
  },
  {
   "cell_type": "code",
   "execution_count": 28,
   "metadata": {},
   "outputs": [
    {
     "data": {
      "image/png": "[encoded data removed]",
      "text/plain": [
       "<Figure size 1440x576 with 1 Axes>"
      ]
     },
     "metadata": {
      "needs_background": "light"
     },
     "output_type": "display_data"
    }
   ],
   "source": [
    "y_hw_B2 = test_B2.copy()\n",
    "fit1 = ExponentialSmoothing(np.asarray(train_B2['Sales']) ,seasonal_periods=2 ,trend='add', seasonal='add',).fit()\n",
    "y_hw_B2['Holt_Winter'] = fit1.forecast(len(test_B2))\n",
    "plt.figure(figsize=(20,8))\n",
    "plt.plot(train_B2['Sales'], label='Train B2')\n",
    "plt.plot(test_B2['Sales'], label='Test B2')\n",
    "plt.plot(y_hw_B2['Holt_Winter'], label='Holt_Winter')\n",
    "plt.legend(loc='best')\n",
    "plt.show()"
   ]
  },
  {
   "cell_type": "code",
   "execution_count": 29,
   "metadata": {},
   "outputs": [
    {
     "name": "stdout",
     "output_type": "stream",
     "text": [
      "mae : 2768.7257819676815\n",
      "rmse : 3302.3277926901683\n"
     ]
    }
   ],
   "source": [
    "print(\"mae :\", mean_absolute_error(test_B2.Sales, y_hw_B2.Holt_Winter))\n",
    "print(\"rmse :\", sqrt(mean_squared_error(test_B2.Sales, y_hw_B2.Holt_Winter)))"
   ]
  },
  {
   "attachments": {},
   "cell_type": "markdown",
   "metadata": {},
   "source": [
    "The RMSE score for product B2 using the Holt-Winters model is horrific at 3302, where predictions are made in the thousands."
   ]
  },
  {
   "attachments": {},
   "cell_type": "markdown",
   "metadata": {},
   "source": [
    "##### ii. SARIMAX"
   ]
  },
  {
   "cell_type": "code",
   "execution_count": 27,
   "metadata": {},
   "outputs": [
    {
     "name": "stderr",
     "output_type": "stream",
     "text": [
      "c:\\Users\\radya\\anaconda3\\lib\\site-packages\\statsmodels\\base\\model.py:604: ConvergenceWarning: Maximum Likelihood optimization failed to converge. Check mle_retvals\n",
      "  warnings.warn(\"Maximum Likelihood optimization failed to \"\n"
     ]
    },
    {
     "data": {
      "image/png": "[encoded data removed]",
      "text/plain": [
       "<Figure size 432x288 with 1 Axes>"
      ]
     },
     "metadata": {
      "needs_background": "light"
     },
     "output_type": "display_data"
    },
    {
     "name": "stdout",
     "output_type": "stream",
     "text": [
      "MAE : 43.77778435993845\n",
      "RMSE : 51.4342600862697\n"
     ]
    }
   ],
   "source": [
    "model=sm.tsa.statespace.SARIMAX(dfB2['Sales'],order=(3,1,3),seasonal_order=(3,0,3,26))\n",
    "results = model.fit()\n",
    "# Creating Prediction and forecast data\n",
    "dfB2['Predict'] = results.predict(start=16, end=30, dynamic=True)\n",
    "forecast14 = results.forecast(steps=14)\n",
    "# Plotting Sales and Prediction\n",
    "plt.plot(dfB2.index, dfB2['Sales'], label='Sales')\n",
    "plt.plot(dfB2.index, dfB2['Predict'], label='Predict')\n",
    "plt.plot(forecast14.index, forecast14, label='Forecast')\n",
    "plt.xticks(rotation=45)\n",
    "plt.xlabel('Date')\n",
    "plt.ylabel('Sales')\n",
    "plt.title('dfB2 Sales Forecast')\n",
    "plt.legend()\n",
    "plt.show()\n",
    "# Printing error evaluation\n",
    "print(\"MAE :\", mean_absolute_error(dfB2.Sales.iloc[16:30], dfB2.Predict.iloc[16:30]))\n",
    "print(\"RMSE :\", sqrt(mean_squared_error(dfB2.Sales.iloc[16:30], dfB2.Predict.iloc[16:30])))"
   ]
  },
  {
   "attachments": {},
   "cell_type": "markdown",
   "metadata": {},
   "source": [
    "The SARIMAX model gives us an acceptable RMSE score of 51.43."
   ]
  },
  {
   "attachments": {},
   "cell_type": "markdown",
   "metadata": {},
   "source": [
    "## IV. Conclusion"
   ]
  },
  {
   "attachments": {},
   "cell_type": "markdown",
   "metadata": {},
   "source": [
    "To recall, the objective of this notebook is to create a time series model to forecast sales of four different products. The SARIMAX models produce the best results for all products. However, the Holt-Winters model may be a better alternative for Product A2. To summarize:\n",
    "\n",
    "Product A1:\n",
    "- Sale numbers at the hundreds\n",
    "- Holt-Winters RMSE Score is 1.83\n",
    "- SARIMAX RMSE Score is 0.78\n",
    "\n",
    "Product A2:\n",
    "- Sale numbers at the thousands\n",
    "- Holt-Winters RMSE Score is 0.07\n",
    "- SARIMAX RMSE Score is 3.95\n",
    "\n",
    "Product B1:\n",
    "- Sale numbers at the thousands\n",
    "- Holt-Winters RMSE Score is 221.37\n",
    "- SARIMAX RMSE Score is 32.75\n",
    "\n",
    "Product B2:\n",
    "- Sale numbers at the thousands\n",
    "- Holt-Winters RMSE Score is 3302.33\n",
    "- SARIMAX RMSE Score is 51.43"
   ]
  }
 ],
 "metadata": {
  "kernelspec": {
   "display_name": "base",
   "language": "python",
   "name": "python3"
  },
  "language_info": {
   "codemirror_mode": {
    "name": "ipython",
    "version": 3
   },
   "file_extension": ".py",
   "mimetype": "text/x-python",
   "name": "python",
   "nbconvert_exporter": "python",
   "pygments_lexer": "ipython3",
   "version": "3.9.12"
  },
  "orig_nbformat": 4,
  "vscode": {
   "interpreter": {
    "hash": "fb26c2799632769ff949349bdf197b904ff929545fca6b113524e62029cfec5d"
   }
  }
 },
 "nbformat": 4,
 "nbformat_minor": 2
}
